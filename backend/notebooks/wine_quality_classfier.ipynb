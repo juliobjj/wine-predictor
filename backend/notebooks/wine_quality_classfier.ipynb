{
  "nbformat": 4,
  "nbformat_minor": 0,
  "metadata": {
    "colab": {
      "provenance": []
    },
    "kernelspec": {
      "name": "python3",
      "display_name": "Python 3"
    },
    "language_info": {
      "name": "python"
    }
  },
  "cells": [
    {
      "cell_type": "markdown",
      "source": [
        "# Descrição\n",
        "\n",
        "Neste projeto, vamos treinar algoritmos de Machine Learning para prever a qualidade de vinhos tintos com base em dados físico-químicos, como acidez, álcool e pH.\n",
        "Nosso objetivo é identificar o modelo que oferece a melhor performance de previsão, respeitando boas práticas de desenvolvimento de software."
      ],
      "metadata": {
        "id": "rEyMnqqphbfG"
      }
    },
    {
      "cell_type": "markdown",
      "source": [
        "# Importação das bibliotecas\n",
        "\n",
        "Nesta célula, importamos bibliotecas essenciais para manipular dados, treinar modelos e avaliá-los."
      ],
      "metadata": {
        "id": "wrRI2gt5hlCy"
      }
    },
    {
      "cell_type": "code",
      "execution_count": 28,
      "metadata": {
        "id": "lLQLsK9DyvbJ"
      },
      "outputs": [],
      "source": [
        "import pandas as pd\n",
        "import numpy as np\n",
        "import joblib\n",
        "\n",
        "import matplotlib.pyplot as plt\n",
        "from sklearn.model_selection import train_test_split\n",
        "from sklearn.pipeline import Pipeline\n",
        "from sklearn.preprocessing import StandardScaler\n",
        "from sklearn.metrics import classification_report, confusion_matrix, ConfusionMatrixDisplay\n",
        "\n",
        "from sklearn.neighbors import KNeighborsClassifier\n",
        "from sklearn.tree import DecisionTreeClassifier\n",
        "from sklearn.naive_bayes import GaussianNB\n",
        "from sklearn.svm import SVC\n"
      ]
    },
    {
      "cell_type": "markdown",
      "source": [
        "# Carregamento dos dados\n",
        "\n",
        "Aqui carregamos o dataset de vinhos e separamos os dados em variáveis de entrada (características do vinho) e saída (qualidade). Depois, dividimos os dados em conjuntos de treino e teste."
      ],
      "metadata": {
        "id": "dylslr43ex53"
      }
    },
    {
      "cell_type": "code",
      "source": [
        "# Carregamento do dataset\n",
        "df = pd.read_csv('https://raw.githubusercontent.com/juliobjj/wine-predictor/refs/heads/main/backend/data/winequality-red.csv', sep=';')\n",
        "df['quality'].value_counts(normalize=True)\n",
        "\n",
        "# Separação entre variáveis explicativas e alvo\n",
        "X = df.drop('quality', axis=1)\n",
        "y = df['quality']\n",
        "\n",
        "# Separação treino/teste\n",
        "X_train, X_test, y_train, y_test = train_test_split(X, y, test_size=0.2, random_state=42)\n",
        "\n",
        "print(\"Formato dos dados de treino:\", X_train.shape)\n",
        "df.head()\n"
      ],
      "metadata": {
        "id": "Zzy6X4IVIxcN",
        "colab": {
          "base_uri": "https://localhost:8080/",
          "height": 278
        },
        "outputId": "e3242784-27aa-4022-ba6e-c41dbd779589"
      },
      "execution_count": 29,
      "outputs": [
        {
          "output_type": "stream",
          "name": "stdout",
          "text": [
            "Formato dos dados de treino: (1280, 11)\n"
          ]
        },
        {
          "output_type": "execute_result",
          "data": {
            "text/plain": [
              "   fixed acidity  volatile acidity  citric acid  residual sugar  chlorides  \\\n",
              "0       9.184283          0.497079     0.305183        3.254899   0.102515   \n",
              "1       8.079420          0.777478     0.350835        2.459073   0.048741   \n",
              "2       9.446978          0.413726     0.312235        0.572418   0.069813   \n",
              "3      10.970072          0.386145     0.512985        1.541846   0.110701   \n",
              "4       7.912573          0.443106     0.089060        2.169527   0.111508   \n",
              "\n",
              "   free sulfur dioxide  total sulfur dioxide   density        pH  sulphates  \\\n",
              "0            15.524556              0.000000  0.998423  3.549214   0.650777   \n",
              "1            10.601818             88.210687  0.993942  3.157674   0.439525   \n",
              "2            14.066958             52.728344  0.995437  3.275817   0.808039   \n",
              "3            23.346094             33.980354  0.996470  3.324341   0.786397   \n",
              "4            29.236381             74.670511  0.999295  3.165947   0.545153   \n",
              "\n",
              "     alcohol  quality  \n",
              "0  11.360859        5  \n",
              "1  10.462061        4  \n",
              "2   9.443812        5  \n",
              "3   9.925126        6  \n",
              "4  10.786853        5  "
            ],
            "text/html": [
              "\n",
              "  <div id=\"df-b0692d35-b3e7-4e7d-8ba7-3cbc66820370\" class=\"colab-df-container\">\n",
              "    <div>\n",
              "<style scoped>\n",
              "    .dataframe tbody tr th:only-of-type {\n",
              "        vertical-align: middle;\n",
              "    }\n",
              "\n",
              "    .dataframe tbody tr th {\n",
              "        vertical-align: top;\n",
              "    }\n",
              "\n",
              "    .dataframe thead th {\n",
              "        text-align: right;\n",
              "    }\n",
              "</style>\n",
              "<table border=\"1\" class=\"dataframe\">\n",
              "  <thead>\n",
              "    <tr style=\"text-align: right;\">\n",
              "      <th></th>\n",
              "      <th>fixed acidity</th>\n",
              "      <th>volatile acidity</th>\n",
              "      <th>citric acid</th>\n",
              "      <th>residual sugar</th>\n",
              "      <th>chlorides</th>\n",
              "      <th>free sulfur dioxide</th>\n",
              "      <th>total sulfur dioxide</th>\n",
              "      <th>density</th>\n",
              "      <th>pH</th>\n",
              "      <th>sulphates</th>\n",
              "      <th>alcohol</th>\n",
              "      <th>quality</th>\n",
              "    </tr>\n",
              "  </thead>\n",
              "  <tbody>\n",
              "    <tr>\n",
              "      <th>0</th>\n",
              "      <td>9.184283</td>\n",
              "      <td>0.497079</td>\n",
              "      <td>0.305183</td>\n",
              "      <td>3.254899</td>\n",
              "      <td>0.102515</td>\n",
              "      <td>15.524556</td>\n",
              "      <td>0.000000</td>\n",
              "      <td>0.998423</td>\n",
              "      <td>3.549214</td>\n",
              "      <td>0.650777</td>\n",
              "      <td>11.360859</td>\n",
              "      <td>5</td>\n",
              "    </tr>\n",
              "    <tr>\n",
              "      <th>1</th>\n",
              "      <td>8.079420</td>\n",
              "      <td>0.777478</td>\n",
              "      <td>0.350835</td>\n",
              "      <td>2.459073</td>\n",
              "      <td>0.048741</td>\n",
              "      <td>10.601818</td>\n",
              "      <td>88.210687</td>\n",
              "      <td>0.993942</td>\n",
              "      <td>3.157674</td>\n",
              "      <td>0.439525</td>\n",
              "      <td>10.462061</td>\n",
              "      <td>4</td>\n",
              "    </tr>\n",
              "    <tr>\n",
              "      <th>2</th>\n",
              "      <td>9.446978</td>\n",
              "      <td>0.413726</td>\n",
              "      <td>0.312235</td>\n",
              "      <td>0.572418</td>\n",
              "      <td>0.069813</td>\n",
              "      <td>14.066958</td>\n",
              "      <td>52.728344</td>\n",
              "      <td>0.995437</td>\n",
              "      <td>3.275817</td>\n",
              "      <td>0.808039</td>\n",
              "      <td>9.443812</td>\n",
              "      <td>5</td>\n",
              "    </tr>\n",
              "    <tr>\n",
              "      <th>3</th>\n",
              "      <td>10.970072</td>\n",
              "      <td>0.386145</td>\n",
              "      <td>0.512985</td>\n",
              "      <td>1.541846</td>\n",
              "      <td>0.110701</td>\n",
              "      <td>23.346094</td>\n",
              "      <td>33.980354</td>\n",
              "      <td>0.996470</td>\n",
              "      <td>3.324341</td>\n",
              "      <td>0.786397</td>\n",
              "      <td>9.925126</td>\n",
              "      <td>6</td>\n",
              "    </tr>\n",
              "    <tr>\n",
              "      <th>4</th>\n",
              "      <td>7.912573</td>\n",
              "      <td>0.443106</td>\n",
              "      <td>0.089060</td>\n",
              "      <td>2.169527</td>\n",
              "      <td>0.111508</td>\n",
              "      <td>29.236381</td>\n",
              "      <td>74.670511</td>\n",
              "      <td>0.999295</td>\n",
              "      <td>3.165947</td>\n",
              "      <td>0.545153</td>\n",
              "      <td>10.786853</td>\n",
              "      <td>5</td>\n",
              "    </tr>\n",
              "  </tbody>\n",
              "</table>\n",
              "</div>\n",
              "    <div class=\"colab-df-buttons\">\n",
              "\n",
              "  <div class=\"colab-df-container\">\n",
              "    <button class=\"colab-df-convert\" onclick=\"convertToInteractive('df-b0692d35-b3e7-4e7d-8ba7-3cbc66820370')\"\n",
              "            title=\"Convert this dataframe to an interactive table.\"\n",
              "            style=\"display:none;\">\n",
              "\n",
              "  <svg xmlns=\"http://www.w3.org/2000/svg\" height=\"24px\" viewBox=\"0 -960 960 960\">\n",
              "    <path d=\"M120-120v-720h720v720H120Zm60-500h600v-160H180v160Zm220 220h160v-160H400v160Zm0 220h160v-160H400v160ZM180-400h160v-160H180v160Zm440 0h160v-160H620v160ZM180-180h160v-160H180v160Zm440 0h160v-160H620v160Z\"/>\n",
              "  </svg>\n",
              "    </button>\n",
              "\n",
              "  <style>\n",
              "    .colab-df-container {\n",
              "      display:flex;\n",
              "      gap: 12px;\n",
              "    }\n",
              "\n",
              "    .colab-df-convert {\n",
              "      background-color: #E8F0FE;\n",
              "      border: none;\n",
              "      border-radius: 50%;\n",
              "      cursor: pointer;\n",
              "      display: none;\n",
              "      fill: #1967D2;\n",
              "      height: 32px;\n",
              "      padding: 0 0 0 0;\n",
              "      width: 32px;\n",
              "    }\n",
              "\n",
              "    .colab-df-convert:hover {\n",
              "      background-color: #E2EBFA;\n",
              "      box-shadow: 0px 1px 2px rgba(60, 64, 67, 0.3), 0px 1px 3px 1px rgba(60, 64, 67, 0.15);\n",
              "      fill: #174EA6;\n",
              "    }\n",
              "\n",
              "    .colab-df-buttons div {\n",
              "      margin-bottom: 4px;\n",
              "    }\n",
              "\n",
              "    [theme=dark] .colab-df-convert {\n",
              "      background-color: #3B4455;\n",
              "      fill: #D2E3FC;\n",
              "    }\n",
              "\n",
              "    [theme=dark] .colab-df-convert:hover {\n",
              "      background-color: #434B5C;\n",
              "      box-shadow: 0px 1px 3px 1px rgba(0, 0, 0, 0.15);\n",
              "      filter: drop-shadow(0px 1px 2px rgba(0, 0, 0, 0.3));\n",
              "      fill: #FFFFFF;\n",
              "    }\n",
              "  </style>\n",
              "\n",
              "    <script>\n",
              "      const buttonEl =\n",
              "        document.querySelector('#df-b0692d35-b3e7-4e7d-8ba7-3cbc66820370 button.colab-df-convert');\n",
              "      buttonEl.style.display =\n",
              "        google.colab.kernel.accessAllowed ? 'block' : 'none';\n",
              "\n",
              "      async function convertToInteractive(key) {\n",
              "        const element = document.querySelector('#df-b0692d35-b3e7-4e7d-8ba7-3cbc66820370');\n",
              "        const dataTable =\n",
              "          await google.colab.kernel.invokeFunction('convertToInteractive',\n",
              "                                                    [key], {});\n",
              "        if (!dataTable) return;\n",
              "\n",
              "        const docLinkHtml = 'Like what you see? Visit the ' +\n",
              "          '<a target=\"_blank\" href=https://colab.research.google.com/notebooks/data_table.ipynb>data table notebook</a>'\n",
              "          + ' to learn more about interactive tables.';\n",
              "        element.innerHTML = '';\n",
              "        dataTable['output_type'] = 'display_data';\n",
              "        await google.colab.output.renderOutput(dataTable, element);\n",
              "        const docLink = document.createElement('div');\n",
              "        docLink.innerHTML = docLinkHtml;\n",
              "        element.appendChild(docLink);\n",
              "      }\n",
              "    </script>\n",
              "  </div>\n",
              "\n",
              "\n",
              "    <div id=\"df-78cd2f3d-7de2-43fc-9af4-798e95899180\">\n",
              "      <button class=\"colab-df-quickchart\" onclick=\"quickchart('df-78cd2f3d-7de2-43fc-9af4-798e95899180')\"\n",
              "                title=\"Suggest charts\"\n",
              "                style=\"display:none;\">\n",
              "\n",
              "<svg xmlns=\"http://www.w3.org/2000/svg\" height=\"24px\"viewBox=\"0 0 24 24\"\n",
              "     width=\"24px\">\n",
              "    <g>\n",
              "        <path d=\"M19 3H5c-1.1 0-2 .9-2 2v14c0 1.1.9 2 2 2h14c1.1 0 2-.9 2-2V5c0-1.1-.9-2-2-2zM9 17H7v-7h2v7zm4 0h-2V7h2v10zm4 0h-2v-4h2v4z\"/>\n",
              "    </g>\n",
              "</svg>\n",
              "      </button>\n",
              "\n",
              "<style>\n",
              "  .colab-df-quickchart {\n",
              "      --bg-color: #E8F0FE;\n",
              "      --fill-color: #1967D2;\n",
              "      --hover-bg-color: #E2EBFA;\n",
              "      --hover-fill-color: #174EA6;\n",
              "      --disabled-fill-color: #AAA;\n",
              "      --disabled-bg-color: #DDD;\n",
              "  }\n",
              "\n",
              "  [theme=dark] .colab-df-quickchart {\n",
              "      --bg-color: #3B4455;\n",
              "      --fill-color: #D2E3FC;\n",
              "      --hover-bg-color: #434B5C;\n",
              "      --hover-fill-color: #FFFFFF;\n",
              "      --disabled-bg-color: #3B4455;\n",
              "      --disabled-fill-color: #666;\n",
              "  }\n",
              "\n",
              "  .colab-df-quickchart {\n",
              "    background-color: var(--bg-color);\n",
              "    border: none;\n",
              "    border-radius: 50%;\n",
              "    cursor: pointer;\n",
              "    display: none;\n",
              "    fill: var(--fill-color);\n",
              "    height: 32px;\n",
              "    padding: 0;\n",
              "    width: 32px;\n",
              "  }\n",
              "\n",
              "  .colab-df-quickchart:hover {\n",
              "    background-color: var(--hover-bg-color);\n",
              "    box-shadow: 0 1px 2px rgba(60, 64, 67, 0.3), 0 1px 3px 1px rgba(60, 64, 67, 0.15);\n",
              "    fill: var(--button-hover-fill-color);\n",
              "  }\n",
              "\n",
              "  .colab-df-quickchart-complete:disabled,\n",
              "  .colab-df-quickchart-complete:disabled:hover {\n",
              "    background-color: var(--disabled-bg-color);\n",
              "    fill: var(--disabled-fill-color);\n",
              "    box-shadow: none;\n",
              "  }\n",
              "\n",
              "  .colab-df-spinner {\n",
              "    border: 2px solid var(--fill-color);\n",
              "    border-color: transparent;\n",
              "    border-bottom-color: var(--fill-color);\n",
              "    animation:\n",
              "      spin 1s steps(1) infinite;\n",
              "  }\n",
              "\n",
              "  @keyframes spin {\n",
              "    0% {\n",
              "      border-color: transparent;\n",
              "      border-bottom-color: var(--fill-color);\n",
              "      border-left-color: var(--fill-color);\n",
              "    }\n",
              "    20% {\n",
              "      border-color: transparent;\n",
              "      border-left-color: var(--fill-color);\n",
              "      border-top-color: var(--fill-color);\n",
              "    }\n",
              "    30% {\n",
              "      border-color: transparent;\n",
              "      border-left-color: var(--fill-color);\n",
              "      border-top-color: var(--fill-color);\n",
              "      border-right-color: var(--fill-color);\n",
              "    }\n",
              "    40% {\n",
              "      border-color: transparent;\n",
              "      border-right-color: var(--fill-color);\n",
              "      border-top-color: var(--fill-color);\n",
              "    }\n",
              "    60% {\n",
              "      border-color: transparent;\n",
              "      border-right-color: var(--fill-color);\n",
              "    }\n",
              "    80% {\n",
              "      border-color: transparent;\n",
              "      border-right-color: var(--fill-color);\n",
              "      border-bottom-color: var(--fill-color);\n",
              "    }\n",
              "    90% {\n",
              "      border-color: transparent;\n",
              "      border-bottom-color: var(--fill-color);\n",
              "    }\n",
              "  }\n",
              "</style>\n",
              "\n",
              "      <script>\n",
              "        async function quickchart(key) {\n",
              "          const quickchartButtonEl =\n",
              "            document.querySelector('#' + key + ' button');\n",
              "          quickchartButtonEl.disabled = true;  // To prevent multiple clicks.\n",
              "          quickchartButtonEl.classList.add('colab-df-spinner');\n",
              "          try {\n",
              "            const charts = await google.colab.kernel.invokeFunction(\n",
              "                'suggestCharts', [key], {});\n",
              "          } catch (error) {\n",
              "            console.error('Error during call to suggestCharts:', error);\n",
              "          }\n",
              "          quickchartButtonEl.classList.remove('colab-df-spinner');\n",
              "          quickchartButtonEl.classList.add('colab-df-quickchart-complete');\n",
              "        }\n",
              "        (() => {\n",
              "          let quickchartButtonEl =\n",
              "            document.querySelector('#df-78cd2f3d-7de2-43fc-9af4-798e95899180 button');\n",
              "          quickchartButtonEl.style.display =\n",
              "            google.colab.kernel.accessAllowed ? 'block' : 'none';\n",
              "        })();\n",
              "      </script>\n",
              "    </div>\n",
              "\n",
              "    </div>\n",
              "  </div>\n"
            ],
            "application/vnd.google.colaboratory.intrinsic+json": {
              "type": "dataframe",
              "variable_name": "df",
              "summary": "{\n  \"name\": \"df\",\n  \"rows\": 1600,\n  \"fields\": [\n    {\n      \"column\": \"fixed acidity\",\n      \"properties\": {\n        \"dtype\": \"number\",\n        \"std\": 1.728889721360694,\n        \"min\": 2.680194828279814,\n        \"max\": 15.023752793739217,\n        \"num_unique_values\": 1600,\n        \"samples\": [\n          5.488076158083297,\n          8.286911798249323,\n          7.893024678155005\n        ],\n        \"semantic_type\": \"\",\n        \"description\": \"\"\n      }\n    },\n    {\n      \"column\": \"volatile acidity\",\n      \"properties\": {\n        \"dtype\": \"number\",\n        \"std\": 0.1770502367666846,\n        \"min\": 0.0,\n        \"max\": 1.236722787158539,\n        \"num_unique_values\": 1599,\n        \"samples\": [\n          0.4811020801413104,\n          0.3616210336319728,\n          0.2108541557227614\n        ],\n        \"semantic_type\": \"\",\n        \"description\": \"\"\n      }\n    },\n    {\n      \"column\": \"citric acid\",\n      \"properties\": {\n        \"dtype\": \"number\",\n        \"std\": 0.1764088588710956,\n        \"min\": 0.0,\n        \"max\": 0.8861876642229993,\n        \"num_unique_values\": 1467,\n        \"samples\": [\n          0.3420870255449708,\n          0.552931490582375,\n          0.1030899777450086\n        ],\n        \"semantic_type\": \"\",\n        \"description\": \"\"\n      }\n    },\n    {\n      \"column\": \"residual sugar\",\n      \"properties\": {\n        \"dtype\": \"number\",\n        \"std\": 1.378611402329998,\n        \"min\": 0.0,\n        \"max\": 6.929203383471815,\n        \"num_unique_values\": 1546,\n        \"samples\": [\n          1.9304637974586645,\n          2.474771683654457,\n          1.0862543620422973\n        ],\n        \"semantic_type\": \"\",\n        \"description\": \"\"\n      }\n    },\n    {\n      \"column\": \"chlorides\",\n      \"properties\": {\n        \"dtype\": \"number\",\n        \"std\": 0.04739866206049733,\n        \"min\": 0.0,\n        \"max\": 0.2528655938158127,\n        \"num_unique_values\": 1541,\n        \"samples\": [\n          0.0204703688550557,\n          0.0470920720034594,\n          0.1610661630465925\n        ],\n        \"semantic_type\": \"\",\n        \"description\": \"\"\n      }\n    },\n    {\n      \"column\": \"free sulfur dioxide\",\n      \"properties\": {\n        \"dtype\": \"number\",\n        \"std\": 9.838643147806469,\n        \"min\": 0.0,\n        \"max\": 51.19742533360448,\n        \"num_unique_values\": 1490,\n        \"samples\": [\n          26.12084430996053,\n          16.55814926486815,\n          19.816173692719687\n        ],\n        \"semantic_type\": \"\",\n        \"description\": \"\"\n      }\n    },\n    {\n      \"column\": \"total sulfur dioxide\",\n      \"properties\": {\n        \"dtype\": \"number\",\n        \"std\": 29.61857405151473,\n        \"min\": 0.0,\n        \"max\": 142.3441931987791,\n        \"num_unique_values\": 1483,\n        \"samples\": [\n          88.24027633953483,\n          1.5721488778721806,\n          28.223882389769045\n        ],\n        \"semantic_type\": \"\",\n        \"description\": \"\"\n      }\n    },\n    {\n      \"column\": \"density\",\n      \"properties\": {\n        \"dtype\": \"number\",\n        \"std\": 0.0018874154666646166,\n        \"min\": 0.9903898823443806,\n        \"max\": 1.0031177596584495,\n        \"num_unique_values\": 1600,\n        \"samples\": [\n          0.997705669874493,\n          0.9975172716511992,\n          0.994249615413874\n        ],\n        \"semantic_type\": \"\",\n        \"description\": \"\"\n      }\n    },\n    {\n      \"column\": \"pH\",\n      \"properties\": {\n        \"dtype\": \"number\",\n        \"std\": 0.15323454083956253,\n        \"min\": 2.8476156737285145,\n        \"max\": 3.824336571701232,\n        \"num_unique_values\": 1600,\n        \"samples\": [\n          2.9562303786688804,\n          3.0552324147399625,\n          3.3495728628519013\n        ],\n        \"semantic_type\": \"\",\n        \"description\": \"\"\n      }\n    },\n    {\n      \"column\": \"sulphates\",\n      \"properties\": {\n        \"dtype\": \"number\",\n        \"std\": 0.17261147923542594,\n        \"min\": 0.0420159613181826,\n        \"max\": 1.421444322674379,\n        \"num_unique_values\": 1600,\n        \"samples\": [\n          0.7496865797390456,\n          0.8328612511321848,\n          0.5498174862390778\n        ],\n        \"semantic_type\": \"\",\n        \"description\": \"\"\n      }\n    },\n    {\n      \"column\": \"alcohol\",\n      \"properties\": {\n        \"dtype\": \"number\",\n        \"std\": 1.0650913102756274,\n        \"min\": 7.280865407464459,\n        \"max\": 13.733464199736098,\n        \"num_unique_values\": 1600,\n        \"samples\": [\n          9.359156755696112,\n          9.852279019457486,\n          12.227039745763864\n        ],\n        \"semantic_type\": \"\",\n        \"description\": \"\"\n      }\n    },\n    {\n      \"column\": \"quality\",\n      \"properties\": {\n        \"dtype\": \"number\",\n        \"std\": 0,\n        \"min\": 3,\n        \"max\": 7,\n        \"num_unique_values\": 5,\n        \"samples\": [\n          4,\n          3,\n          6\n        ],\n        \"semantic_type\": \"\",\n        \"description\": \"\"\n      }\n    }\n  ]\n}"
            }
          },
          "metadata": {},
          "execution_count": 29
        }
      ]
    },
    {
      "cell_type": "markdown",
      "source": [
        "# Pré-processamento\n",
        "\n",
        "Para que os modelos funcionem bem, os dados precisam estar padronizados. Esta classe aplica um processo de normalização que melhora o desempenho de diversos algoritmos."
      ],
      "metadata": {
        "id": "m9imtWkUfMzN"
      }
    },
    {
      "cell_type": "code",
      "source": [
        "class Preprocessor:\n",
        "    def __init__(self):\n",
        "        self.scaler = StandardScaler()\n",
        "\n",
        "    def get_pipeline(self, model):\n",
        "        return Pipeline([\n",
        "            ('scaler', self.scaler),\n",
        "            ('classifier', model)\n",
        "        ])"
      ],
      "metadata": {
        "id": "5XP2ums6TC46"
      },
      "execution_count": 30,
      "outputs": []
    },
    {
      "cell_type": "markdown",
      "source": [
        "# Avaliação dos dados\n",
        "\n",
        "Esta classe mede o desempenho dos modelos utilizando o relatório de classificação do Scikit-Learn, que inclui precisão, recall e F1-score"
      ],
      "metadata": {
        "id": "NfPX-u1TfUvj"
      }
    },
    {
      "cell_type": "code",
      "source": [
        "class Evaluator:\n",
        "    def __init__(self, X_test, y_test):\n",
        "        self.X_test = X_test\n",
        "        self.y_test = y_test\n",
        "\n",
        "    def evaluate(self, pipeline, X_train, y_train):\n",
        "        pipeline.fit(X_train, y_train)\n",
        "        y_pred = pipeline.predict(self.X_test)\n",
        "        report = classification_report(self.y_test, y_pred, output_dict=True)\n",
        "        return report"
      ],
      "metadata": {
        "id": "yAukna1yZkH-"
      },
      "execution_count": 31,
      "outputs": []
    },
    {
      "cell_type": "markdown",
      "source": [
        "# Exportação do Modelo\n",
        "\n",
        "Após encontrar o melhor modelo, salvamos ele em disco para uso posterior, sem precisar treinar novamente."
      ],
      "metadata": {
        "id": "mW2M0IfWfbjs"
      }
    },
    {
      "cell_type": "code",
      "source": [
        "class ModelExporter:\n",
        "    def __init__(self, output_path):\n",
        "        self.output_path = output_path\n",
        "\n",
        "    def export(self, model):\n",
        "        joblib.dump(model, self.output_path)\n"
      ],
      "metadata": {
        "id": "c2OQQZTjcDfL"
      },
      "execution_count": 32,
      "outputs": []
    },
    {
      "cell_type": "markdown",
      "source": [
        "# Treinamento dos modelos\n",
        "\n",
        "Nesta etapa, comparamos vários algoritmos clássicos de classificação:\n",
        "\n",
        "*   KNN (K-Nearest Neighbors)\n",
        "*   Árvore de Decisão\n",
        "*   Naive Bayes\n",
        "*  SVM (Support Vector Machine)\n",
        "\n",
        "Cada modelo é treinado, avaliado e comparado usando a métrica F1-score."
      ],
      "metadata": {
        "id": "byQZbKpQfhRt"
      }
    },
    {
      "cell_type": "code",
      "source": [
        "models = {\n",
        "    'KNN': KNeighborsClassifier(),\n",
        "    'Árvore de Decisão': DecisionTreeClassifier(class_weight='balanced', random_state=42),\n",
        "    'Naive Bayes': GaussianNB(),\n",
        "    'SVM': SVC(class_weight='balanced', random_state=42)\n",
        "}\n",
        "\n",
        "best_f1 = 0\n",
        "best_model_name = ''\n",
        "best_pipeline = None\n",
        "\n",
        "evaluator = Evaluator(X_test, y_test)\n",
        "\n",
        "f1_scores = []\n",
        "model_names = []\n",
        "\n",
        "for name, model in models.items():\n",
        "    print(f\"Treinando modelo: {name}...\")\n",
        "    preprocessor = Preprocessor()\n",
        "    pipeline = preprocessor.get_pipeline(model)\n",
        "    report = evaluator.evaluate(pipeline, X_train, y_train)\n",
        "    f1 = report['weighted avg']['f1-score']\n",
        "    f1_scores.append(f1)\n",
        "    model_names.append(name)\n",
        "\n",
        "    print(f\"{name} - F1 Score: {f1:.4f}\\n\")\n",
        "\n",
        "    if f1 > best_f1:\n",
        "        best_f1 = f1\n",
        "        best_model_name = name\n",
        "        best_pipeline = pipeline\n",
        "\n",
        "# Plotando boxplot de comparação\n",
        "plt.figure(figsize=(10, 6))\n",
        "plt.title('Comparação de F1-Score entre Modelos')\n",
        "plt.bar(model_names, f1_scores, color='skyblue')\n",
        "plt.ylabel('F1 Score')\n",
        "plt.ylim(0, 1.1)\n",
        "plt.grid(axis='y', linestyle='--', alpha=0.7)\n",
        "plt.show()\n"
      ],
      "metadata": {
        "colab": {
          "base_uri": "https://localhost:8080/",
          "height": 617
        },
        "id": "7CoDYRPYZ21h",
        "outputId": "b06ab935-783c-4a1e-990f-db2d17581486"
      },
      "execution_count": 33,
      "outputs": [
        {
          "output_type": "stream",
          "name": "stdout",
          "text": [
            "Treinando modelo: KNN...\n",
            "KNN - F1 Score: 0.6744\n",
            "\n",
            "Treinando modelo: Árvore de Decisão...\n",
            "Árvore de Decisão - F1 Score: 0.9937\n",
            "\n",
            "Treinando modelo: Naive Bayes...\n",
            "Naive Bayes - F1 Score: 0.7428\n",
            "\n",
            "Treinando modelo: SVM...\n",
            "SVM - F1 Score: 0.7637\n",
            "\n"
          ]
        },
        {
          "output_type": "display_data",
          "data": {
            "text/plain": [
              "<Figure size 1000x600 with 1 Axes>"
            ],
            "image/png": "[encoded data removed]"
          },
          "metadata": {}
        }
      ]
    },
    {
      "cell_type": "markdown",
      "source": [
        "# Exibe o melhor modelo\n",
        "\n",
        "Mostramos qual modelo teve o melhor desempenho no teste."
      ],
      "metadata": {
        "id": "_i4Iy1fUixGH"
      }
    },
    {
      "cell_type": "code",
      "source": [
        "print(f\"Melhor modelo: {best_model_name} com F1 Score: {best_f1:.4f}\")\n"
      ],
      "metadata": {
        "id": "NfGGVVGVy24O",
        "colab": {
          "base_uri": "https://localhost:8080/"
        },
        "outputId": "0b5e609c-8c84-46a2-fbb1-09c33637a059"
      },
      "execution_count": 34,
      "outputs": [
        {
          "output_type": "stream",
          "name": "stdout",
          "text": [
            "Melhor modelo: Árvore de Decisão com F1 Score: 0.9937\n"
          ]
        }
      ]
    },
    {
      "cell_type": "markdown",
      "source": [
        "# Exportação do modelo final\n",
        "\n",
        "Salvamos o melhor modelo em um arquivo .joblib, que pode ser reutilizado posteriormente para fazer previsões em novos dados."
      ],
      "metadata": {
        "id": "UJsg_8xo2qFv"
      }
    },
    {
      "cell_type": "code",
      "source": [
        "exporter = ModelExporter(\"best_model.joblib\")\n",
        "exporter.export(best_pipeline)\n",
        "print(\"Modelo exportado com sucesso.\")"
      ],
      "metadata": {
        "colab": {
          "base_uri": "https://localhost:8080/"
        },
        "id": "75NiTcao2qp1",
        "outputId": "aadced2d-b1d2-4165-8254-052dbed88a8a"
      },
      "execution_count": 35,
      "outputs": [
        {
          "output_type": "stream",
          "name": "stdout",
          "text": [
            "Modelo exportado com sucesso.\n"
          ]
        }
      ]
    },
    {
      "cell_type": "markdown",
      "source": [
        "# Análise do Resultado\n",
        "\n",
        "Foram testados quatro algoritmos de classificação: KNN, Árvore de Decisão, Naive Bayes e SVM. O melhor desempenho foi obtido pela Árvore de Decisão, com um F1-Score de 0.9937, indicando alta precisão e capacidade de generalização. Os demais algoritmos tiveram desempenhos moderados, com destaque para o SVM (0.7637) e Naive Bayes (0.7428). O KNN foi o que apresentou o menor desempenho (0.6744)."
      ],
      "metadata": {
        "id": "DCQ-QHA18VvC"
      }
    },
    {
      "cell_type": "markdown",
      "source": [
        "# Conclusão\n",
        "\n",
        "O projeto demonstrou a aplicação prática de técnicas de machine learning em um problema real de classificação de vinhos. A Árvore de Decisão se mostrou o algoritmo mais eficiente neste contexto. Todas as etapas do pipeline foram seguidas conforme a proposta da disciplina, incluindo pré-processamento, separação treino/teste, avaliação com F1-score e comparação entre modelos. O trabalho evidenciou a importância da experimentação com diferentes algoritmos para escolha da melhor solução.\n",
        "\n"
      ],
      "metadata": {
        "id": "CMS7xj3R8Z3p"
      }
    },
    {
      "cell_type": "code",
      "source": [],
      "metadata": {
        "id": "M5fqFXZZ8oUa"
      },
      "execution_count": 35,
      "outputs": []
    }
  ]
}